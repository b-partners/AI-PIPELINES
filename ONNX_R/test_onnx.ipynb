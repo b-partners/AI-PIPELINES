{
 "cells": [
  {
   "cell_type": "code",
   "execution_count": null,
   "metadata": {},
   "outputs": [
    {
     "name": "stdout",
     "output_type": "stream",
     "text": [
      "Modified model saved to plaiades-voirie-lc1.onnx\n"
     ]
    }
   ],
   "source": [
    "import onnx\n",
    "import onnx.helper as helper\n",
    "\n",
    "def modify_onnx_model(input_path, output_path):\n",
    "    # Load ONNX model\n",
    "    model = onnx.load(input_path)\n",
    "    graph = model.graph\n",
    "    \n",
    "    # Find the logits output node\n",
    "    logits_output = graph.output[0]  # Assuming first output is logits\n",
    "    logits_name = logits_output.name\n",
    "\n",
    "    # Define Softmax node\n",
    "    softmax_output_name = \"softmax_output\"\n",
    "    softmax_node = helper.make_node(\n",
    "        \"Softmax\",\n",
    "        inputs=[logits_name],\n",
    "        outputs=[softmax_output_name],\n",
    "        axis=1  # Softmax along channel dimension (assuming NCHW format)\n",
    "    )\n",
    "\n",
    "    # Define ArgMax node\n",
    "    mask_output_name = \"segmentation_mask\"\n",
    "    argmax_node = helper.make_node(\n",
    "        \"ArgMax\",\n",
    "        inputs=[softmax_output_name],\n",
    "        outputs=[mask_output_name],\n",
    "        axis=1,  # Get the most probable class per pixel\n",
    "        keepdims=0  # Remove extra dimension\n",
    "    )\n",
    "    \n",
    "    # Add new nodes to the graph\n",
    "    graph.node.extend([softmax_node])\n",
    "    \n",
    "    # Modify the model outputs\n",
    "    graph.output[0].name = softmax_output_name\n",
    "    graph.output[0].type.tensor_type.elem_type = onnx.TensorProto.FLOAT # Set output to INT8\n",
    "\n",
    "    # Save the modified model\n",
    "    onnx.save(model, output_path)\n",
    "    print(f\"Modified model saved to {output_path}\")\n",
    "\n",
    "# Example usage\n",
    "output_model= \"plaiades-voirie-lc1.onnx\"\n",
    "# modify_onnx_model(\"/home/adelb/Downloads/v512_pleiades_voirie_200eps_wabloss_model3r_lc1_3c_se_resnext50_32x4d_512.onnx\", output_model)\n"
   ]
  },
  {
   "cell_type": "code",
   "execution_count": 1,
   "metadata": {},
   "outputs": [],
   "source": [
    "import json\n",
    "import onnx\n",
    "\n",
    "input_model = \"spot.onnx\"\n",
    "model = onnx.load(input_model)\n",
    "\n",
    "# with open('../VGG-PROCESSING/all_autres_classes.txt') as f:\n",
    "#     classes= f.read().split()\n",
    "\n",
    "classes= ['background', \"Bati\", \"voirie\"]\n",
    "\n",
    "class_names= {i: cls for i, cls in enumerate(classes)}\n",
    "\n",
    "m1 = model.metadata_props.add()\n",
    "m1.key = 'model_type'\n",
    "m1.value = json.dumps('Segmentor')\n",
    "\n",
    "m2 = model.metadata_props.add()\n",
    "m2.key = 'class_names'\n",
    "m2.value = json.dumps(class_names)\n",
    "\n",
    "m3 = model.metadata_props.add()\n",
    "m3.key = 'resolution'\n",
    "m3.value = json.dumps(150.0)\n",
    "\n",
    "# optional, if you want to standarize input after normalisation\n",
    "m4 = model.metadata_props.add()\n",
    "m4.key = 'standardization_mean'\n",
    "m4.value = json.dumps( [0.485, 0.456, 0.406])\n",
    "\n",
    "m5 = model.metadata_props.add()\n",
    "m5.key = 'standardization_std'\n",
    "m5.value = json.dumps([0.229, 0.224, 0.225])\n",
    "\n",
    "m6 = model.metadata_props.add()\n",
    "m6.key = 'tiles_size'\n",
    "m6.value = json.dumps(512)\n",
    "\n",
    "m7 = model.metadata_props.add()\n",
    "m7.key = 'tiles_overlap'\n",
    "m7.value = json.dumps(0)\n",
    "\n",
    "onnx.save(model, 'nspot.onnx')"
   ]
  },
  {
   "cell_type": "code",
   "execution_count": null,
   "metadata": {},
   "outputs": [],
   "source": []
  },
  {
   "cell_type": "code",
   "execution_count": 12,
   "metadata": {},
   "outputs": [
    {
     "name": "stdout",
     "output_type": "stream",
     "text": [
      "input: \"input\"\n",
      "input: \"norm\"\n",
      "output: \"/Div_output_0\"\n",
      "name: \"/Div\"\n",
      "op_type: \"Div\"\n",
      "\n",
      "Node '/Div' removed and connections updated successfully.\n"
     ]
    }
   ],
   "source": [
    "import onnx\n",
    "from onnx import helper\n",
    "\n",
    "# Load the ONNX model\n",
    "model_path = output_model\n",
    "model = onnx.load(model_path)\n",
    "graph = model.graph\n",
    "\n",
    "# Identify the node to remove\n",
    "node_to_remove = \"/Div\"  # Change this to the actual node name\n",
    "\n",
    "# Find the node object\n",
    "node_to_delete = None\n",
    "for node in graph.node:\n",
    "    if node.name == node_to_remove:\n",
    "        node_to_delete = node\n",
    "        break\n",
    "\n",
    "if node_to_delete is None:\n",
    "    raise ValueError(f\"Node '{node_to_remove}' not found in the model.\")\n",
    "\n",
    "print(node_to_delete)\n",
    "\n",
    "# Get the inputs and outputs of the node to be deleted\n",
    "input_name = node_to_delete.input[0]  # Assuming a single input\n",
    "output_name = node_to_delete.output[0]  # Assuming a single output\n",
    "\n",
    "# Update nodes that use the deleted node's output as input\n",
    "for node in graph.node:\n",
    "    for i, input in enumerate(node.input):\n",
    "        if input == output_name:\n",
    "            node.input[i] = input_name  # Redirect input to bypass deleted node\n",
    "\n",
    "# Remove the node from the graph\n",
    "new_nodes = [node for node in graph.node if node.name != node_to_remove]\n",
    "graph.ClearField(\"node\")\n",
    "graph.node.extend(new_nodes)\n",
    "\n",
    "# Save the modified model\n",
    "onnx.save(model, output_model)\n",
    "print(f\"Node '{node_to_remove}' removed and connections updated successfully.\")\n"
   ]
  },
  {
   "cell_type": "code",
   "execution_count": 4,
   "metadata": {},
   "outputs": [
    {
     "data": {
      "text/plain": [
       "3"
      ]
     },
     "execution_count": 4,
     "metadata": {},
     "output_type": "execute_result"
    }
   ],
   "source": [
    "l = [1,2,3,4,5,6,7,8,9]\n",
    "l[2:5][0]"
   ]
  }
 ],
 "metadata": {
  "kernelspec": {
   "display_name": "roof",
   "language": "python",
   "name": "python3"
  },
  "language_info": {
   "codemirror_mode": {
    "name": "ipython",
    "version": 3
   },
   "file_extension": ".py",
   "mimetype": "text/x-python",
   "name": "python",
   "nbconvert_exporter": "python",
   "pygments_lexer": "ipython3",
   "version": "3.10.12"
  }
 },
 "nbformat": 4,
 "nbformat_minor": 2
}
