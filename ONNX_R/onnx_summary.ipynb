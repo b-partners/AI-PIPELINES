{
 "cells": [
  {
   "cell_type": "code",
   "execution_count": 1,
   "id": "7ffd9403",
   "metadata": {},
   "outputs": [
    {
     "name": "stdout",
     "output_type": "stream",
     "text": [
      "Number of layers (nodes): 277\n"
     ]
    }
   ],
   "source": [
    "import onnx\n",
    "\n",
    "model = onnx.load(\"/home/adelb/Downloads/comp_200eps_abloss_model3b_3c_se_resnext50_32x4d_512.onnx\")\n",
    "num_layers = len(model.graph.node)\n",
    "print(f\"Number of layers (nodes): {num_layers}\")\n"
   ]
  },
  {
   "cell_type": "code",
   "execution_count": 4,
   "id": "6100a2c0",
   "metadata": {},
   "outputs": [
    {
     "name": "stdout",
     "output_type": "stream",
     "text": [
      "Activation functions used: {'Sigmoid', 'Relu'}\n"
     ]
    }
   ],
   "source": [
    "activation_ops = {'Relu', 'Sigmoid', 'Tanh', 'LeakyRelu', 'Softmax', 'Gelu', 'Elu', 'Selu', 'HardSigmoid', 'Linear'}\n",
    "\n",
    "activations = [node.op_type for node in model.graph.node if node.op_type in activation_ops]\n",
    "print(f\"Activation functions used: {set(activations)}\")\n"
   ]
  },
  {
   "cell_type": "code",
   "execution_count": 3,
   "id": "a09fd2cf",
   "metadata": {},
   "outputs": [
    {
     "name": "stdout",
     "output_type": "stream",
     "text": [
      "Total number of parameters: 32669865.0\n"
     ]
    }
   ],
   "source": [
    "import numpy as np\n",
    "\n",
    "total_params = 0\n",
    "for tensor in model.graph.initializer:\n",
    "    shape = [dim for dim in tensor.dims]\n",
    "    param_count = np.prod(shape)\n",
    "    total_params += param_count\n",
    "\n",
    "print(f\"Total number of parameters: {total_params}\")\n"
   ]
  }
 ],
 "metadata": {
  "kernelspec": {
   "display_name": "roof (3.10.12)",
   "language": "python",
   "name": "python3"
  },
  "language_info": {
   "codemirror_mode": {
    "name": "ipython",
    "version": 3
   },
   "file_extension": ".py",
   "mimetype": "text/x-python",
   "name": "python",
   "nbconvert_exporter": "python",
   "pygments_lexer": "ipython3",
   "version": "3.10.12"
  }
 },
 "nbformat": 4,
 "nbformat_minor": 5
}
