{
 "cells": [
  {
   "cell_type": "code",
   "execution_count": 1,
   "id": "327d33e7",
   "metadata": {},
   "outputs": [],
   "source": [
    "import math\n",
    "\n",
    "def res2zoom(resolution: float, tile_size: int= 512, lat: int= 0):\n",
    "\tR = 6378137  # Earth radius\n",
    "\tbase_resolution = (2 * math.pi * R) / tile_size  # = 39135.76...\n",
    "\n",
    "\t# Convert latitude to radians\n",
    "\tlatitude_rad = math.radians(lat)\n",
    "\n",
    "\t# Compute zoom level\n",
    "\tzoom = math.log2(base_resolution * math.cos(latitude_rad) / resolution)\n",
    "\tprint(f\"Required zoom level ≈ {zoom:.2f}\")\n"
   ]
  },
  {
   "cell_type": "code",
   "execution_count": 26,
   "id": "1dcf9aff",
   "metadata": {},
   "outputs": [
    {
     "name": "stdout",
     "output_type": "stream",
     "text": [
      "Required zoom level ≈ 16.93\n"
     ]
    }
   ],
   "source": [
    "res2zoom(resolution=0.5, tile_size=640)"
   ]
  },
  {
   "cell_type": "code",
   "execution_count": 4,
   "id": "729e4a33",
   "metadata": {},
   "outputs": [],
   "source": [
    "def zoom2res(zoom: int, tile_size: int= 512, lat:int= 0):\n",
    "\tR = 6378137  # Earth radius\n",
    "\tbase_resolution = (2 * math.pi * R) / tile_size  # = 39135.76...\n",
    "\n",
    "\t# Convert latitude to radians\n",
    "\tlatitude_rad = math.radians(lat)\n",
    "\n",
    "\t# Compute zoom level\n",
    "\tresolution= base_resolution * math.cos(latitude_rad) / 2**zoom\n",
    "\tprint(f\"Required resolution level ≈ {resolution:.4f}\")"
   ]
  },
  {
   "cell_type": "code",
   "execution_count": 28,
   "id": "797fb419",
   "metadata": {},
   "outputs": [
    {
     "name": "stdout",
     "output_type": "stream",
     "text": [
      "Required resolution level ≈ 0.5972\n"
     ]
    }
   ],
   "source": [
    "zoom2res(zoom=17, tile_size=512)\n",
    "\n"
   ]
  },
  {
   "cell_type": "code",
   "execution_count": 6,
   "id": "51949e00",
   "metadata": {},
   "outputs": [],
   "source": [
    "def res2size(resolution, zoom, lat: int = 0):\n",
    "    latitude_rad = math.radians(lat)\n",
    "    R = 6378137\n",
    "    base_resolution = resolution * 2**zoom/math.cos(latitude_rad)\n",
    "    tile_size = (2 * math.pi * R) / base_resolution\n",
    "    \n",
    "    def nearest_valid_img_size(img_size):\n",
    "        valid_sizes = list(range(128, 3073, 128))\n",
    "        return min(valid_sizes, key=lambda x: abs(x - img_size))\n",
    "\n",
    "    valid_img_size = nearest_valid_img_size(tile_size)\n",
    "    return f\"required tile [image] size is: {valid_img_size}px square\""
   ]
  },
  {
   "cell_type": "code",
   "execution_count": 23,
   "id": "338428d1",
   "metadata": {},
   "outputs": [
    {
     "data": {
      "text/plain": [
       "'required tile [image] size is: 1280px square'"
      ]
     },
     "execution_count": 23,
     "metadata": {},
     "output_type": "execute_result"
    }
   ],
   "source": [
    "res2size(resolution=0.5, zoom=16)"
   ]
  }
 ],
 "metadata": {
  "kernelspec": {
   "display_name": "roof",
   "language": "python",
   "name": "python3"
  },
  "language_info": {
   "codemirror_mode": {
    "name": "ipython",
    "version": 3
   },
   "file_extension": ".py",
   "mimetype": "text/x-python",
   "name": "python",
   "nbconvert_exporter": "python",
   "pygments_lexer": "ipython3",
   "version": "3.10.12"
  }
 },
 "nbformat": 4,
 "nbformat_minor": 5
}
