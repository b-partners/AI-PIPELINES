{
 "cells": [
  {
   "cell_type": "code",
   "execution_count": 7,
   "id": "a4e41980",
   "metadata": {},
   "outputs": [
    {
     "name": "stdout",
     "output_type": "stream",
     "text": [
      "- Val:\n",
      "\t- Baccharis: 87 instances\n",
      "\t- Herbe de la Pampa: 59 instances\n"
     ]
    }
   ],
   "source": [
    "import os\n",
    "from collections import Counter\n",
    "\n",
    "def count_yolo_classes(label_dir):\n",
    "    class_counts = Counter()\n",
    "\n",
    "    for filename in os.listdir(label_dir):\n",
    "        if filename.endswith('.txt'):\n",
    "            with open(os.path.join(label_dir, filename), 'r') as f:\n",
    "                for line in f:\n",
    "                    if line.strip():  # skip empty lines\n",
    "                        class_id = int(line.strip().split()[0])\n",
    "                        class_counts[class_id] += 1\n",
    "\n",
    "    return dict(class_counts)\n",
    "\n",
    "# Example usage\n",
    "label_directory = \"PI_IDR_DS/val/labels\"\n",
    "counts = count_yolo_classes(label_directory)\n",
    "classes = {0: 'Baccharis', 1: 'Herbe de la Pampa'}\n",
    "print(\"- Val:\")\n",
    "for cls, count in sorted(counts.items()):\n",
    "    print(f\"\\t- {classes[cls]}: {count} instances\")\n"
   ]
  },
  {
   "cell_type": "code",
   "execution_count": null,
   "id": "6d2ab1e3",
   "metadata": {},
   "outputs": [
    {
     "data": {
      "text/plain": [
       "0.184375"
      ]
     },
     "execution_count": 10,
     "metadata": {},
     "output_type": "execute_result"
    }
   ],
   "source": []
  }
 ],
 "metadata": {
  "kernelspec": {
   "display_name": "roof (3.10.12)",
   "language": "python",
   "name": "python3"
  },
  "language_info": {
   "codemirror_mode": {
    "name": "ipython",
    "version": 3
   },
   "file_extension": ".py",
   "mimetype": "text/x-python",
   "name": "python",
   "nbconvert_exporter": "python",
   "pygments_lexer": "ipython3",
   "version": "3.10.12"
  }
 },
 "nbformat": 4,
 "nbformat_minor": 5
}
