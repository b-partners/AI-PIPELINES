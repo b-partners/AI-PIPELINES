{
 "cells": [
  {
   "cell_type": "code",
   "execution_count": 2,
   "id": "4d053eb4",
   "metadata": {},
   "outputs": [
    {
     "name": "stdout",
     "output_type": "stream",
     "text": [
      "✅ Dataset split complete with folder structure:\n",
      "dataset/train/images, dataset/train/labels\n",
      "dataset/val/images, dataset/val/labels\n"
     ]
    }
   ],
   "source": [
    "import os\n",
    "import random\n",
    "import shutil\n",
    "\n",
    "# === Parameters ===\n",
    "dataset_dir = \"/home/adelb/Documents/Bpartners/revets/dataset1\"\n",
    "images_dir = \"/home/adelb/Documents/Bpartners/revets/dataset1/images\"\n",
    "labels_dir = \"/home/adelb/Documents/Bpartners/revets/dataset1/labels\"\n",
    "split_ratio = 0.8  # 80% train, 20% val\n",
    "random.seed(42)\n",
    "\n",
    "# === Create new output structure ===\n",
    "for split in ['train', 'val']:\n",
    "    os.makedirs(os.path.join(dataset_dir, split, 'images'), exist_ok=True)\n",
    "    os.makedirs(os.path.join(dataset_dir, split, 'labels'), exist_ok=True)\n",
    "\n",
    "# === Collect and shuffle image files ===\n",
    "image_files = [f for f in os.listdir(images_dir) if f.endswith(('.jpg'))]\n",
    "random.shuffle(image_files)\n",
    "\n",
    "# === Split ===\n",
    "split_index = int(len(image_files) * split_ratio)\n",
    "train_files = image_files[:split_index]\n",
    "val_files = image_files[split_index:]\n",
    "\n",
    "def move_files(file_list, split):\n",
    "    for image_file in file_list:\n",
    "        basename = os.path.splitext(image_file)[0]\n",
    "        label_file = f\"{basename}.txt\"\n",
    "\n",
    "        src_image = os.path.join(images_dir, image_file)\n",
    "        src_label = os.path.join(labels_dir, label_file)\n",
    "\n",
    "        dst_image = os.path.join(dataset_dir, split, 'images', image_file)\n",
    "        dst_label = os.path.join(dataset_dir, split, 'labels', label_file)\n",
    "\n",
    "        if os.path.exists(src_label):  # Ensure label exists\n",
    "            shutil.copy(src_image, dst_image)\n",
    "            shutil.copy(src_label, dst_label)\n",
    "        else:\n",
    "            print(f\"⚠️  Label not found for: {image_file}\")\n",
    "\n",
    "# === Perform file moves ===\n",
    "move_files(train_files, 'train')\n",
    "move_files(val_files, 'val')\n",
    "\n",
    "print(\"✅ Dataset split complete with folder structure:\")\n",
    "print(\"dataset/train/images, dataset/train/labels\")\n",
    "print(\"dataset/val/images, dataset/val/labels\")\n"
   ]
  },
  {
   "cell_type": "code",
   "execution_count": null,
   "id": "8fa807e1",
   "metadata": {},
   "outputs": [],
   "source": []
  }
 ],
 "metadata": {
  "kernelspec": {
   "display_name": "roof",
   "language": "python",
   "name": "python3"
  },
  "language_info": {
   "codemirror_mode": {
    "name": "ipython",
    "version": 3
   },
   "file_extension": ".py",
   "mimetype": "text/x-python",
   "name": "python",
   "nbconvert_exporter": "python",
   "pygments_lexer": "ipython3",
   "version": "3.10.12"
  }
 },
 "nbformat": 4,
 "nbformat_minor": 5
}
