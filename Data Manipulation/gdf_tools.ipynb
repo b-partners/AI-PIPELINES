{
 "cells": [
  {
   "cell_type": "code",
   "execution_count": 2,
   "id": "d253c7d3",
   "metadata": {},
   "outputs": [],
   "source": [
    "import geopandas as gpd"
   ]
  },
  {
   "cell_type": "markdown",
   "id": "9a68f6b5",
   "metadata": {},
   "source": [
    "view the geoJson"
   ]
  },
  {
   "cell_type": "code",
   "execution_count": 2,
   "id": "67815280",
   "metadata": {},
   "outputs": [
    {
     "data": {
      "text/html": [
       "<div>\n",
       "<style scoped>\n",
       "    .dataframe tbody tr th:only-of-type {\n",
       "        vertical-align: middle;\n",
       "    }\n",
       "\n",
       "    .dataframe tbody tr th {\n",
       "        vertical-align: top;\n",
       "    }\n",
       "\n",
       "    .dataframe thead th {\n",
       "        text-align: right;\n",
       "    }\n",
       "</style>\n",
       "<table border=\"1\" class=\"dataframe\">\n",
       "  <thead>\n",
       "    <tr style=\"text-align: right;\">\n",
       "      <th></th>\n",
       "      <th>especes</th>\n",
       "      <th>year</th>\n",
       "      <th>geometry</th>\n",
       "    </tr>\n",
       "  </thead>\n",
       "  <tbody>\n",
       "    <tr>\n",
       "      <th>0</th>\n",
       "      <td>Herbe de la Pampa</td>\n",
       "      <td>2022</td>\n",
       "      <td>POLYGON ((-167725.607 5815130.779, -167725.01 ...</td>\n",
       "    </tr>\n",
       "    <tr>\n",
       "      <th>1</th>\n",
       "      <td>Baccharis</td>\n",
       "      <td>2022</td>\n",
       "      <td>POLYGON ((-162497.658 5813295.394, -162497.658...</td>\n",
       "    </tr>\n",
       "    <tr>\n",
       "      <th>2</th>\n",
       "      <td>Herbe de la Pampa</td>\n",
       "      <td>2023</td>\n",
       "      <td>POLYGON ((-166999.604 5815088.679, -166999.381...</td>\n",
       "    </tr>\n",
       "    <tr>\n",
       "      <th>3</th>\n",
       "      <td>Herbe de la Pampa</td>\n",
       "      <td>2023</td>\n",
       "      <td>POLYGON ((-166998.783 5815081.438, -166998.634...</td>\n",
       "    </tr>\n",
       "    <tr>\n",
       "      <th>4</th>\n",
       "      <td>Herbe de la Pampa</td>\n",
       "      <td>2023</td>\n",
       "      <td>POLYGON ((-166996.171 5815082.782, -166995.872...</td>\n",
       "    </tr>\n",
       "  </tbody>\n",
       "</table>\n",
       "</div>"
      ],
      "text/plain": [
       "             especes  year                                           geometry\n",
       "0  Herbe de la Pampa  2022  POLYGON ((-167725.607 5815130.779, -167725.01 ...\n",
       "1          Baccharis  2022  POLYGON ((-162497.658 5813295.394, -162497.658...\n",
       "2  Herbe de la Pampa  2023  POLYGON ((-166999.604 5815088.679, -166999.381...\n",
       "3  Herbe de la Pampa  2023  POLYGON ((-166998.783 5815081.438, -166998.634...\n",
       "4  Herbe de la Pampa  2023  POLYGON ((-166996.171 5815082.782, -166995.872..."
      ]
     },
     "execution_count": 2,
     "metadata": {},
     "output_type": "execute_result"
    }
   ],
   "source": [
    "geojson_path = 'converted.geojson'\n",
    "gdf = gpd.read_file(geojson_path)\n",
    "gdf.head()"
   ]
  },
  {
   "cell_type": "markdown",
   "id": "e428a8d0",
   "metadata": {},
   "source": [
    "Repreojection"
   ]
  },
  {
   "cell_type": "code",
   "execution_count": 10,
   "id": "c13e2bf3",
   "metadata": {},
   "outputs": [
    {
     "name": "stdout",
     "output_type": "stream",
     "text": [
      "Original CRS: EPSG:4326\n",
      "Converted CRS: EPSG:3857\n"
     ]
    }
   ],
   "source": [
    "# Load your GeoJSON\n",
    "geojson_path = \"/home/adelb/Documents/Bpartners/Pleiades/Annotation_Bati-20251003T083650Z-1-001/Annotation_Bati/Pleiade_2018_Chartres_BATI_geojson.geojson\"\n",
    "out_path = \"/home/adelb/Documents/Bpartners/Pleiades/Annotation_Bati-20251003T083650Z-1-001/Annotation_Bati/Pleiade_2018_Chartres_BATI_geojson_r.geojson\"\n",
    "\n",
    "gdf = gpd.read_file(geojson_path)\n",
    "    \n",
    "\n",
    "\n",
    "# Check the current CRS\n",
    "print(\"Original CRS:\", gdf.crs)\n",
    "\n",
    "# Reproject to another EPSG (for example, EPSG:4326 -> WGS84)\n",
    "gdf = gdf.to_crs(epsg=3857)\n",
    "\n",
    "# Save back to GeoJSON\n",
    "gdf.to_file(out_path, driver=\"GeoJSON\")\n",
    "\n",
    "print(\"Converted CRS:\", gdf.crs)"
   ]
  },
  {
   "cell_type": "markdown",
   "id": "7ba98ce8",
   "metadata": {},
   "source": [
    "Split the geoJson by attribut"
   ]
  },
  {
   "cell_type": "code",
   "execution_count": null,
   "id": "c430f198",
   "metadata": {},
   "outputs": [],
   "source": [
    "import os\n",
    "\n",
    "# --- Parameters ---\n",
    "input_file = \"/home/adelb/Downloads/pave_dalle_4_new.geojson\"          # path to your original GeoJSON\n",
    "output_dir = \"split_by_typologie\"        # folder where split files will be saved\n",
    "label_column = \"especes\"               # change to the actual label column name if different\n",
    "\n",
    "# --- Create output directory ---\n",
    "os.makedirs(output_dir, exist_ok=True)\n",
    "\n",
    "# --- Load the GeoJSON ---\n",
    "gdf = gpd.read_file(input_file)\n",
    "\n",
    "# --- Split and save ---\n",
    "for label, group in gdf.groupby(label_column):\n",
    "    # Make filename safe\n",
    "    safe_label = str(label).replace(\" \", \"_\").replace(\"/\", \"_\")\n",
    "    output_path = os.path.join(output_dir, f\"{safe_label}.geojson\")\n",
    "    group.to_file(output_path, driver=\"GeoJSON\")\n",
    "    print(f\"Saved {len(group)} features to {output_path}\")\n"
   ]
  },
  {
   "cell_type": "code",
   "execution_count": null,
   "id": "8d8a1d31",
   "metadata": {},
   "outputs": [],
   "source": []
  }
 ],
 "metadata": {
  "kernelspec": {
   "display_name": "roof",
   "language": "python",
   "name": "python3"
  },
  "language_info": {
   "codemirror_mode": {
    "name": "ipython",
    "version": 3
   },
   "file_extension": ".py",
   "mimetype": "text/x-python",
   "name": "python",
   "nbconvert_exporter": "python",
   "pygments_lexer": "ipython3",
   "version": "3.10.12"
  }
 },
 "nbformat": 4,
 "nbformat_minor": 5
}
