{
 "cells": [
  {
   "cell_type": "code",
   "execution_count": 4,
   "id": "e885d6d5",
   "metadata": {},
   "outputs": [
    {
     "name": "stdout",
     "output_type": "stream",
     "text": [
      "1130\n",
      "==== VGG Instance & Area Stats ====\n",
      "Total labeled instances: 24396\n",
      "Number of unique labels: 1\n",
      "\n",
      "Label                          |  Count |     nbr Empties |Total Area (nbr_img)\n",
      "------------------------------------------------------------\n",
      "Bati                           |  24396 |            1117 |                29.81\n"
     ]
    }
   ],
   "source": [
    "import json\n",
    "from collections import defaultdict\n",
    "from shapely.geometry import Polygon\n",
    "\n",
    "def get_vgg_instance_stats_and_areas(vgg_json_path):\n",
    "    with open(vgg_json_path, 'r') as f:\n",
    "        vgg_data = json.load(f)\n",
    "\n",
    "    label_counts = defaultdict(int)\n",
    "    label_empties = defaultdict(int)\n",
    "    label_areas = defaultdict(float)\n",
    "    print(len(vgg_data))\n",
    "    for filename, entry in vgg_data.items():\n",
    "        regions = entry.get('regions', {})\n",
    "\n",
    "        for region in regions.values():\n",
    "            if isinstance(region, dict):\n",
    "                attrs = region.get('region_attributes', {})\n",
    "                label = attrs.get('label', 'undefined')\n",
    "\n",
    "                shape = region.get('shape_attributes', {})\n",
    "                if shape.get('name') == 'polygon':\n",
    "                    all_x = shape.get('all_points_x', [])\n",
    "                    all_y = shape.get('all_points_y', [])\n",
    "\n",
    "                    if len(all_x) >= 3 and len(all_x) == len(all_y):\n",
    "                        coords = list(zip(all_x, all_y))\n",
    "                        try:\n",
    "                            poly = Polygon(coords)\n",
    "                            poly = poly if poly.is_valid else poly.buffer(0)\n",
    "                            area = poly.area\n",
    "                            if poly.is_empty: label_empties[label] += 1\n",
    "                            label_areas[label] += area\n",
    "                        except Exception as e:\n",
    "                            print(f\"Warning: invalid polygon in {filename}, label '{label}': {e}\")\n",
    "                            continue\n",
    "\n",
    "                label_counts[label] += 1\n",
    "\n",
    "    # Sort by instance count\n",
    "    sorted_labels = sorted(label_counts.items(), key=lambda x: x[1])\n",
    "\n",
    "    # Print stats\n",
    "    print(\"==== VGG Instance & Area Stats ====\")\n",
    "    total_instances = sum(label_counts.values())\n",
    "    print(f\"Total labeled instances: {total_instances}\")\n",
    "    print(f\"Number of unique labels: {len(label_counts)}\\n\")\n",
    "\n",
    "    print(f\"{'Label':30s} | {'Count':>6s} | {'nbr Empties':>15s} |{'Total Area (nbr_img)':>20s}\")\n",
    "    print(\"-\" * 60)\n",
    "    for label, count in sorted_labels:\n",
    "        area = label_areas[label]\n",
    "        empties = label_empties[label]\n",
    "        print(f\"{label:30s} | {count:6d} | {empties:>15} | {area/(1024*1024):20.2f}\")\n",
    "\n",
    "    return dict(label_counts), dict(label_areas)\n",
    "\n",
    "# Example usage\n",
    "if __name__ == \"__main__\":\n",
    "    vgg_json_path = \"/home/adelb/Documents/Bpartners/Pleiades/dataset/bati_2022_cherbourg/pleiade_2014_cherbourg_bati.json\"  # Replace with your file\n",
    "    counts, areas = get_vgg_instance_stats_and_areas(vgg_json_path)\n"
   ]
  },
  {
   "cell_type": "code",
   "execution_count": null,
   "id": "9bc7d6dc",
   "metadata": {},
   "outputs": [
    {
     "data": {
      "text/plain": [
       "0.9309922265683023"
      ]
     },
     "execution_count": 6,
     "metadata": {},
     "output_type": "execute_result"
    }
   ],
   "source": []
  },
  {
   "cell_type": "code",
   "execution_count": 7,
   "id": "eb6e2c90",
   "metadata": {},
   "outputs": [
    {
     "data": {
      "text/plain": [
       "-1034.3599999999997"
      ]
     },
     "execution_count": 7,
     "metadata": {},
     "output_type": "execute_result"
    }
   ],
   "source": [
    "36.06+19.94+36.55+496.40+980.47+403.19+2824.57+1799.03+1180.43-8811"
   ]
  },
  {
   "cell_type": "code",
   "execution_count": null,
   "id": "c6ca8ea3",
   "metadata": {},
   "outputs": [
    {
     "name": "stdout",
     "output_type": "stream",
     "text": [
      "40689\n"
     ]
    },
    {
     "ename": "KeyboardInterrupt",
     "evalue": "",
     "output_type": "error",
     "traceback": [
      "\u001b[0;31m---------------------------------------------------------------------------\u001b[0m",
      "\u001b[0;31mKeyboardInterrupt\u001b[0m                         Traceback (most recent call last)",
      "Cell \u001b[0;32mIn[2], line 3\u001b[0m\n\u001b[1;32m      1\u001b[0m vgg_json_path \u001b[38;5;241m=\u001b[39m \u001b[38;5;124m\"\u001b[39m\u001b[38;5;124m/home/adelb/Documents/Bpartners/VGG-PROCESSING/clean-vggs/augmented_2_damages_kept_classes_no-intensity_all-roofed_complemented.json\u001b[39m\u001b[38;5;124m\"\u001b[39m  \u001b[38;5;66;03m# Replace with your file\u001b[39;00m\n\u001b[0;32m----> 3\u001b[0m counts, areas \u001b[38;5;241m=\u001b[39m \u001b[43mget_vgg_instance_stats_and_areas\u001b[49m\u001b[43m(\u001b[49m\u001b[43mvgg_json_path\u001b[49m\u001b[43m)\u001b[49m\n",
      "Cell \u001b[0;32mIn[1], line 28\u001b[0m, in \u001b[0;36mget_vgg_instance_stats_and_areas\u001b[0;34m(vgg_json_path)\u001b[0m\n\u001b[1;32m     26\u001b[0m coords \u001b[38;5;241m=\u001b[39m \u001b[38;5;28mlist\u001b[39m(\u001b[38;5;28mzip\u001b[39m(all_x, all_y))\n\u001b[1;32m     27\u001b[0m \u001b[38;5;28;01mtry\u001b[39;00m:\n\u001b[0;32m---> 28\u001b[0m     poly \u001b[38;5;241m=\u001b[39m \u001b[43mPolygon\u001b[49m\u001b[43m(\u001b[49m\u001b[43mcoords\u001b[49m\u001b[43m)\u001b[49m\n\u001b[1;32m     29\u001b[0m     area \u001b[38;5;241m=\u001b[39m poly\u001b[38;5;241m.\u001b[39marea\n\u001b[1;32m     30\u001b[0m     label_areas[label] \u001b[38;5;241m+\u001b[39m\u001b[38;5;241m=\u001b[39m area\n",
      "File \u001b[0;32m~/Documents/Bpartners/image_analysis/roof/lib/python3.10/site-packages/shapely/geometry/polygon.py:230\u001b[0m, in \u001b[0;36mPolygon.__new__\u001b[0;34m(self, shell, holes)\u001b[0m\n\u001b[1;32m    228\u001b[0m     \u001b[38;5;28;01mreturn\u001b[39;00m shell\n\u001b[1;32m    229\u001b[0m \u001b[38;5;28;01melse\u001b[39;00m:\n\u001b[0;32m--> 230\u001b[0m     shell \u001b[38;5;241m=\u001b[39m \u001b[43mLinearRing\u001b[49m\u001b[43m(\u001b[49m\u001b[43mshell\u001b[49m\u001b[43m)\u001b[49m\n\u001b[1;32m    232\u001b[0m \u001b[38;5;28;01mif\u001b[39;00m holes \u001b[38;5;129;01mis\u001b[39;00m \u001b[38;5;129;01mnot\u001b[39;00m \u001b[38;5;28;01mNone\u001b[39;00m:\n\u001b[1;32m    233\u001b[0m     \u001b[38;5;28;01mif\u001b[39;00m \u001b[38;5;28mlen\u001b[39m(holes) \u001b[38;5;241m==\u001b[39m \u001b[38;5;241m0\u001b[39m:\n\u001b[1;32m    234\u001b[0m         \u001b[38;5;66;03m# shapely constructor cannot handle holes=[]\u001b[39;00m\n",
      "File \u001b[0;32m~/Documents/Bpartners/image_analysis/roof/lib/python3.10/site-packages/shapely/geometry/polygon.py:93\u001b[0m, in \u001b[0;36mLinearRing.__new__\u001b[0;34m(self, coordinates)\u001b[0m\n\u001b[1;32m     90\u001b[0m     \u001b[38;5;28;01melse\u001b[39;00m:\n\u001b[1;32m     91\u001b[0m         \u001b[38;5;28;01mreturn\u001b[39;00m [\u001b[38;5;28mfloat\u001b[39m(c) \u001b[38;5;28;01mfor\u001b[39;00m c \u001b[38;5;129;01min\u001b[39;00m o]\n\u001b[0;32m---> 93\u001b[0m coordinates \u001b[38;5;241m=\u001b[39m \u001b[43mnp\u001b[49m\u001b[38;5;241;43m.\u001b[39;49m\u001b[43marray\u001b[49m\u001b[43m(\u001b[49m\u001b[43m[\u001b[49m\u001b[43m_coords\u001b[49m\u001b[43m(\u001b[49m\u001b[43mo\u001b[49m\u001b[43m)\u001b[49m\u001b[43m \u001b[49m\u001b[38;5;28;43;01mfor\u001b[39;49;00m\u001b[43m \u001b[49m\u001b[43mo\u001b[49m\u001b[43m \u001b[49m\u001b[38;5;129;43;01min\u001b[39;49;00m\u001b[43m \u001b[49m\u001b[43mcoordinates\u001b[49m\u001b[43m]\u001b[49m\u001b[43m)\u001b[49m\n\u001b[1;32m     94\u001b[0m \u001b[38;5;28;01mif\u001b[39;00m \u001b[38;5;129;01mnot\u001b[39;00m np\u001b[38;5;241m.\u001b[39missubdtype(coordinates\u001b[38;5;241m.\u001b[39mdtype, np\u001b[38;5;241m.\u001b[39mnumber):\n\u001b[1;32m     95\u001b[0m     \u001b[38;5;66;03m# conversion of coords to 2D array failed, this might be due\u001b[39;00m\n\u001b[1;32m     96\u001b[0m     \u001b[38;5;66;03m# to inconsistent coordinate dimensionality\u001b[39;00m\n\u001b[1;32m     97\u001b[0m     \u001b[38;5;28;01mraise\u001b[39;00m \u001b[38;5;167;01mValueError\u001b[39;00m(\u001b[38;5;124m\"\u001b[39m\u001b[38;5;124mInconsistent coordinate dimensionality\u001b[39m\u001b[38;5;124m\"\u001b[39m)\n",
      "\u001b[0;31mKeyboardInterrupt\u001b[0m: "
     ]
    }
   ],
   "source": [
    "vgg_json_path = \"/home/adelb/Documents/Bpartners/Stanislas/all_vgg.json\"  # Replace with your file\n",
    "    \n",
    "counts, areas = get_vgg_instance_stats_and_areas(vgg_json_path)"
   ]
  },
  {
   "cell_type": "code",
   "execution_count": null,
   "id": "dad86885",
   "metadata": {},
   "outputs": [],
   "source": [
    "[1, 3, 5, 8, 9, 10]"
   ]
  },
  {
   "cell_type": "code",
   "execution_count": 5,
   "id": "686ad741",
   "metadata": {},
   "outputs": [
    {
     "data": {
      "text/plain": [
       "'roof_ardoise,roof_asphalte_bitume,roof_bac_acier,roof_beton_brut,roof_fibro_ciment,roof_gravier,roof_tole_ondulee,roof_tuiles,roof_zinc'"
      ]
     },
     "execution_count": 5,
     "metadata": {},
     "output_type": "execute_result"
    }
   ],
   "source": [
    "','.join(['roof_ardoise',\n",
    " 'roof_asphalte_bitume',\n",
    " 'roof_bac_acier',\n",
    " 'roof_beton_brut',\n",
    " 'roof_fibro_ciment',\n",
    " 'roof_gravier',\n",
    " 'roof_tole_ondulee',\n",
    " 'roof_tuiles',\n",
    " 'roof_zinc'])"
   ]
  },
  {
   "cell_type": "code",
   "execution_count": 4,
   "id": "87019430",
   "metadata": {},
   "outputs": [
    {
     "data": {
      "text/plain": [
       "'cheminee,humidite_autres,moisissure_couleur_ardoise,moisissure_tuiles,obstacles,roof_ardoise,roof_autres,roof_tuiles,usure_ardoise,usure_autres,usure_tuiles,velux'"
      ]
     },
     "execution_count": 4,
     "metadata": {},
     "output_type": "execute_result"
    }
   ],
   "source": [
    "','.join(sorted(areas.keys()))"
   ]
  },
  {
   "cell_type": "code",
   "execution_count": 5,
   "id": "b8027d30",
   "metadata": {},
   "outputs": [
    {
     "data": {
      "text/plain": [
       "{0: 'background',\n",
       " 1: 'cheminee',\n",
       " 2: 'humidite_autres',\n",
       " 3: 'moisissure_couleur_ardoise',\n",
       " 4: 'moisissure_tuiles',\n",
       " 5: 'obstacles',\n",
       " 6: 'roof_ardoise',\n",
       " 7: 'roof_autres',\n",
       " 8: 'roof_tuiles',\n",
       " 9: 'usure_ardoise',\n",
       " 10: 'usure_autres',\n",
       " 11: 'usure_tuiles',\n",
       " 12: 'velux'}"
      ]
     },
     "execution_count": 5,
     "metadata": {},
     "output_type": "execute_result"
    }
   ],
   "source": [
    "class_names = ['background','cheminee',\n",
    " 'humidite_autres',\n",
    " 'moisissure_couleur_ardoise',\n",
    " 'moisissure_tuiles',\n",
    " 'obstacles',\n",
    " 'roof_ardoise',\n",
    " 'roof_autres',\n",
    " 'roof_tuiles',\n",
    " 'usure_ardoise',\n",
    " 'usure_autres',\n",
    " 'usure_tuiles',\n",
    " 'velux']\n",
    "{i: cls for i, cls in enumerate(class_names)}"
   ]
  },
  {
   "cell_type": "code",
   "execution_count": 5,
   "id": "89f5b978",
   "metadata": {},
   "outputs": [
    {
     "data": {
      "text/plain": [
       "2165.0764529913704"
      ]
     },
     "execution_count": 5,
     "metadata": {},
     "output_type": "execute_result"
    }
   ],
   "source": [
    "(areas['roof'] - sum([areas[k] for k in areas.keys() if k != 'roof']))/(1024*1024)"
   ]
  },
  {
   "cell_type": "code",
   "execution_count": 7,
   "id": "f3d80ffb",
   "metadata": {},
   "outputs": [
    {
     "data": {
      "text/plain": [
       "759.6095728781914"
      ]
     },
     "execution_count": 7,
     "metadata": {},
     "output_type": "execute_result"
    }
   ],
   "source": [
    "sum([areas[k] for k in areas.keys() if k != 'roof'])/(1024*1024)"
   ]
  },
  {
   "cell_type": "code",
   "execution_count": 5,
   "id": "335ab58a",
   "metadata": {},
   "outputs": [
    {
     "data": {
      "text/plain": [
       "['roof_ardoise',\n",
       " 'roof_asphalte_bitume',\n",
       " 'roof_bac_acier',\n",
       " 'roof_beton_brut',\n",
       " 'roof_fibro_ciment',\n",
       " 'roof_gravier',\n",
       " 'roof_tole_ondulee',\n",
       " 'roof_tuiles',\n",
       " 'roof_zinc']"
      ]
     },
     "execution_count": 5,
     "metadata": {},
     "output_type": "execute_result"
    }
   ],
   "source": [
    "sorted(counts.keys())"
   ]
  },
  {
   "cell_type": "code",
   "execution_count": 1,
   "id": "740ca7a0",
   "metadata": {},
   "outputs": [
    {
     "data": {
      "text/plain": [
       "'background,cheminee,humidite_clair_autres,humidite_intense_autres,moisissure_clair_tuiles,moisissure_couleur_ardoise,moisissure_couleur_tuiles,moisissure_noircie_tuiles,obstacle,pv,roof_ardoise,roof_autres,roof_tuiles,usure_importante_ardoise,usure_importante_tuiles,usure_legere_ardoise,usure_legere_autres,velux'"
      ]
     },
     "execution_count": 1,
     "metadata": {},
     "output_type": "execute_result"
    }
   ],
   "source": [
    "','.join(\"background cheminee humidite_clair_autres humidite_intense_autres moisissure_clair_tuiles moisissure_couleur_ardoise moisissure_couleur_tuiles moisissure_noircie_tuiles obstacle pv roof_ardoise roof_autres roof_tuiles usure_importante_ardoise usure_importante_tuiles usure_legere_ardoise usure_legere_autres velux\".split())"
   ]
  },
  {
   "cell_type": "code",
   "execution_count": 7,
   "id": "905e5f86",
   "metadata": {},
   "outputs": [
    {
     "name": "stdout",
     "output_type": "stream",
     "text": [
      "################################## Metrics Avant Post Processing ###################################\n",
      "# bp_simp_tt_200eps_model3r_se_resnext50_32x4d_512bp_simp_tt_200eps_model3r_se_resnext50_32x4d_512 #\n",
      "####################################################################################################\n"
     ]
    }
   ],
   "source": [
    "fd = 'bp_simp_tt_200eps_model3r_se_resnext50_32x4d_512'*2\n",
    "print(f\"{' Metrics Avant Post Processing ':#^100}\")\n",
    "print(f\"{' '+fd+' ':#^100}\")\n",
    "print('#'*100)"
   ]
  }
 ],
 "metadata": {
  "kernelspec": {
   "display_name": "roof",
   "language": "python",
   "name": "python3"
  },
  "language_info": {
   "codemirror_mode": {
    "name": "ipython",
    "version": 3
   },
   "file_extension": ".py",
   "mimetype": "text/x-python",
   "name": "python",
   "nbconvert_exporter": "python",
   "pygments_lexer": "ipython3",
   "version": "3.10.12"
  }
 },
 "nbformat": 4,
 "nbformat_minor": 5
}
